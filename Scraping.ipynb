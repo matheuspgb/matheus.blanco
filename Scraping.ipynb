{
 "cells": [
  {
   "cell_type": "markdown",
   "metadata": {},
   "source": [
    "# Coletando dados de uma página da internet"
   ]
  },
  {
   "cell_type": "markdown",
   "metadata": {},
   "source": [
    "O script em questão coletará o texto presente na página: https://g1.globo.com/mundo/noticia/2020/01/07/parlamento-do-ira-classifica-comando-militar-dos-eua-como-terroristas.ghtml"
   ]
  },
  {
   "cell_type": "code",
   "execution_count": 1,
   "metadata": {},
   "outputs": [],
   "source": [
    "import requests\n",
    "from bs4 import BeautifulSoup"
   ]
  },
  {
   "cell_type": "code",
   "execution_count": 2,
   "metadata": {},
   "outputs": [
    {
     "data": {
      "text/plain": [
       "<Response [200]>"
      ]
     },
     "execution_count": 2,
     "metadata": {},
     "output_type": "execute_result"
    }
   ],
   "source": [
    "page = requests.get('https://g1.globo.com/mundo/noticia/2020/01/07/parlamento-do-ira-classifica-comando-militar-dos-eua-como-terroristas.ghtml')\n",
    "\n",
    "\n",
    "page"
   ]
  },
  {
   "cell_type": "markdown",
   "metadata": {},
   "source": [
    "A resposta de número 200 acima indica que conseguimos conectar ao endereço desejado"
   ]
  },
  {
   "cell_type": "markdown",
   "metadata": {},
   "source": [
    "Com o próximo bloco de código, utilizaremos o pacote do Beautiful Soup para \"ler\" o conteúdo html da página visitada"
   ]
  },
  {
   "cell_type": "code",
   "execution_count": 3,
   "metadata": {},
   "outputs": [],
   "source": [
    "# Criar o objeto BeautifulSoup\n",
    "soup = BeautifulSoup(page.text, 'html.parser')"
   ]
  },
  {
   "cell_type": "markdown",
   "metadata": {},
   "source": [
    "Utilizaremos, então, um simples laço para acessar ao texto extraído no processo de coleta"
   ]
  },
  {
   "cell_type": "code",
   "execution_count": 4,
   "metadata": {
    "scrolled": true
   },
   "outputs": [
    {
     "name": "stdout",
     "output_type": "stream",
     "text": [
      "\n",
      "  Por G1 \n",
      "\n",
      "   07/01/2020 08h22    Atualizado  2020-01-07T12:22:03.777Z    \n",
      "\n",
      "  Parlamento do Irã durante sessão no dia 7 de janeiro de 2020 — Foto: Vahid Salemi/AP \n",
      "\n",
      "  O parlamento do Irã aprovou nesta terça-feira (7) uma medida urgente que declara que o comando militar dos Estados Unidos, conhecido como Pentágono, e os que agem por ordens dele são terroristas e sujeitos a sanções iranianas. \n",
      "\n",
      " EUA e Irã: Entenda quem é quem na crise\n",
      "\n",
      "  “Todos aqueles que ordenaram e os que executaram esse crime (a morte do general Qassem Soleimani) que estão com o Pentágono e seus militares são considerados terroristas”, afirmou Ali Larijani, líder do parlamento. \n",
      "\n",
      "  A medida foi aprovada em meio às cerimônias que lotam as ruas de cidades do Irã em homenagem ao general Qassem Soleimani, morto pelos Estados Unidos em um ataque com drones perto do aeroporto de Bagdá, no Iraque, na quinta-feira (2). \n",
      "\n",
      "  Soleimani, de 62 anos, comandava a Força Quds, uma unidade de elite da Guarda Revolucionária Iraniana com atuação no exterior. Ele era considerado o segundo homem mais poderoso do Irã, abaixo apenas do líder supremo, o aiatolá Ali Khamenei. \n",
      "\n",
      "  Os Estados Unidos, que classificam Quds como uma força terrorista, acusaram Soleimani de estar \"ativamente desenvolvendo planos para atacar diplomatas americanos e membros do serviço no Iraque e em toda a região\". \n",
      "\n",
      "  Irã classifica todos os militares americanos como terroristas \n",
      "\n",
      "  Ao aprovar a medida sobre o Pentágono, os parlamentares iranianos cantaram “morte à América” e “sem comprometimento, sem rendição, vingança, vingança” durante a sessão. \n",
      "\n",
      "  Em abril de 2019, os Estados Unidos haviam declarado considerar a Guarda Revolucionária do Irã também como uma organização terrorista. O Departamento de Defesa dos EUA usou a designação para justificar o ataque que matou Soleimani. \n",
      "\n",
      "  O parlamento iraniano usou um procedimento específico para que a medida se torne lei rapidamente. A decisão foi tomada no momento em que autoridades do país promete retaliar a morte de Soleimani. \n",
      "\n",
      "  Na sessão, os parlamentares também aprovaram aumentar o orçamento das Forças Quds em 200 milhões de euros (cerca de R$ 908 milhões). \n",
      "\n",
      " \n",
      "Ataque ordenado por Trump mata principal general iraniano\n",
      "\n",
      "\n",
      " \n",
      "Qassem Soleimani: quem era o general iraniano\n",
      "\n",
      "\n",
      " \n",
      "O que se sabe sobre o bombardeio que matou o general\n",
      "\n",
      "\n",
      " \n",
      "Acompanhe a cronologia do conflito\n",
      "\n",
      "\n",
      " \n",
      "Veja vídeos sobre o ataque dos EUA em Bagdá\n",
      "\n",
      "\n",
      " \n",
      "Líderes iranianos prometem vingança após morte de Soleimani\n",
      "\n",
      "\n",
      " \n",
      "Líderes mundiais tentam evitar escalada de ataques\n",
      "\n",
      "\n",
      " \n",
      "Sandra Cohen: ataque equivale a declaração de guerra\n",
      "\n",
      "\n",
      " \n",
      "Homenagens a general reúnem multidões no Irã e no Iraque\n",
      "\n",
      "\n",
      " \n",
      "Trump diz ter 52 alvos para ataque no Irã; Exército iraniano duvida\n",
      "\n",
      "\n",
      " \n",
      "Irã diz que não vai respeitar acordo sobre enriquecimento de urânio\n",
      "\n",
      "\n",
      " \n",
      "Petróleo atinge maior valor desde maio de 2019\n",
      "\n",
      "\n",
      " O que aconteceu hoje, diretamente no seu e-mail\n",
      "\n",
      " Obrigado!\n",
      "\n",
      "  Você acaba de se inscrever na newsletter Resumo do dia. \n",
      "\n",
      " Veja também\n",
      "\n",
      " \n",
      "\n",
      " \n",
      "\n",
      " \n",
      "\n",
      " \n"
     ]
    }
   ],
   "source": [
    "resultados = soup.find_all('p')\n",
    "\n",
    "for  texto in resultados:\n",
    "    print('\\n', texto.text)"
   ]
  },
  {
   "cell_type": "markdown",
   "metadata": {},
   "source": [
    "Vale ressaltar que, nessa aplicação, foram extraídos todos os conteúdos presentes na tag de HTML do tipo <p>. Utilizando da mesma lógica, podemos coletar qualquer texto dada uma tag HTML alvo - visitar o site w3schools para saber mais"
   ]
  },
  {
   "cell_type": "markdown",
   "metadata": {},
   "source": [
    "## Automatizando o script anterior"
   ]
  },
  {
   "cell_type": "markdown",
   "metadata": {},
   "source": [
    "Por fins práticos, podemos criar uma função genérica capaz de coletar dados dado um site e uma tag alvo"
   ]
  },
  {
   "cell_type": "code",
   "execution_count": 5,
   "metadata": {},
   "outputs": [],
   "source": [
    "def Coletor(url, tag='p'):\n",
    "    import requests\n",
    "    from bs4 import BeautifulSoup\n",
    "    \n",
    "    page = requests.get(url)\n",
    "    soup = BeautifulSoup(page.text, 'html.parser')\n",
    "    resultados = soup.find_all(tag)\n",
    "    \n",
    "    saida = []\n",
    "    for  texto in resultados:\n",
    "        saida.append(texto.text)\n",
    "    return(saida)\n",
    "    "
   ]
  },
  {
   "cell_type": "markdown",
   "metadata": {},
   "source": [
    "Com a função pronta, devemos testar a mesma em outras páginas da internet"
   ]
  },
  {
   "cell_type": "code",
   "execution_count": 12,
   "metadata": {},
   "outputs": [
    {
     "data": {
      "text/plain": [
       "['Salvo em seu Livro de Receitas!',\n",
       " ' Por quelpinha.custodio ',\n",
       " '  09/05/2014 16h47    Atualizado  2015-05-29T12:55:58Z    ',\n",
       " ' ',\n",
       " '  Ingredientes  ',\n",
       " '  Modo de Preparo  ',\n",
       " ' Misturar a manteiga, açúcar mascavo, açúcar, essência de baunilha e chocolate em pó (se for fazer cookie com base de chocolate)Adicionar o ovo batido aos poucos e misturar bemAdicionar a farinha aos poucos e ir misturando bemPode ser na mão ou na batedeira planetáriaPor último adicionar o fermento e misturar só para incorporá-lo à massaDepois da massa bem misturada, adicionar o chocolate picadoFormar bolinhas pequenas e assar em forno pré-aquecido, sobre papel manteiga por aproximadamente 15 a 20 minutos no forno à 250°As bolinhas podem ser pequenas pois os cookies se espalham no fornoO tempo de forno depende e tem que cuidar para não queimar embaixo ',\n",
       " 'Vídeos para você',\n",
       " '',\n",
       " '']"
      ]
     },
     "execution_count": 12,
     "metadata": {},
     "output_type": "execute_result"
    }
   ],
   "source": [
    "Coletor(url='https://gshow.globo.com/receitas-gshow/receitas/cookie-de-chocolate-536d30d04d38857f66000043.ghtml')"
   ]
  },
  {
   "cell_type": "code",
   "execution_count": 13,
   "metadata": {},
   "outputs": [
    {
     "data": {
      "text/plain": [
       "['O canal sobre tecnologia do UOL',\n",
       " 'Da AFP',\n",
       " '07/01/2020 09h11Atualizada em 07/01/2020 10h36 ',\n",
       " 'A Nasa anunciou nesta segunda-feira (6) que seu Satélite de Pesquisas de Exoplanetas em Trânsito (Tess, sigla em inglês) descobriu um planeta do tamanho da Terra a uma distância intermediária de sua estrela, o que permitiria a presença de água em estado líquido.',\n",
       " 'Chamado \"TOI 700 d\", ele está relativamente próximo da Terra (a apenas 100 anos-luz), disse o Laboratório de Propulsão a Jato da Nasa durante a conferência da Sociedade Americana de Astronomia, em Honolulu, no Havaí. Sua estrela, TOI 700, é pequena, 40% do tamanho do Sol e mais fria.',\n",
       " 'A descoberta é a primeira do satélite caçador de planetas da Nasa, lançado em 2018, e foi confirmada pelo telescópio espacial Spitzer. \"O Tess foi projetado e lançado especificamente para encontrar planetas do tamanho da Terra e em órbita de estrelas próximas\", explicou o diretor de astrofísica da Nasa, Paul Hertz.',\n",
       " 'O satélite descobriu três planetas em órbita, chamados TOI 700b, c e d. Somente \"d\" está na chamada zona habitável, nem tão longe nem tão perto da estrela, onde as temperaturas podem permitir a presença de água líquida.',\n",
       " 'Inicialmente, o satélite classificou erroneamente a estrela, o que implicava que os planetas pareciam maiores e mais quentes do que realmente eram. Vários astrônomos amadores identificaram o erro.',\n",
       " '    Imagem: Satélite Tess busca de exoplanetas, numa missão que deve ir pelo menos até 2022 ',\n",
       " 'Desde o final do ano passado, o Tess também está colaborando com astrônomos dedicados à busca por inteligência extraterrestre. O Breakthrough Listen foi fundado em 2015 pelo bilionário russo e pioneiro da internet Yuri Milner e ganhou apoio da Nasa em seu trabalho, o que elevou o status do grupo de pesquisa.',\n",
       " 'Dois avanços ajudaram esse campo a ultrapassar o domínio da ficção científica: o primeiro foi a descoberta, em 1995, do primeiro exoplaneta (planeta fora do nosso sistema estelar), que acabou de ser recompensada com o prêmio Nobel, e a posterior confirmação de mais de 4.000 outros exoplanetas. O segundo foi a descoberta de extremófilos, organismos capazes de sobreviver em condições extremas de temperatura ou pressão.',\n",
       " '\"Passamos muito tempo ao longo dos anos tentando nos distanciar da pseudociência e dos OVNIs\", disse em entrevista à AFP Jill Tarter, 75, presidente emérita do Seti Research, do Instituto Seti na Califórnia, fundado em 1984.',\n",
       " 'Tarter dedicou sua vida à busca de sinais emanados de galáxias distantes e inspirou o personagem interpretado por Jodie Foster no filme \"Contato\" (1997). Ela é financiada por magnatas do Vale do Silício, incluindo o falecido Paul Allen, que fundou a Microsoft em parceria com Bill Gates. \"Nós publicamos estudos, passamos pelas revisões por pares e construímos instrumentos interessantes. Hoje é muito mais crível do que era antes\", explicou.',\n",
       " 'Os astrônomos interessados no Seti usam telescópios, ópticos e de rádio, para escanear o céu em busca de sinais que indicariam formas de vida inteligentes. \"Não sabemos como encontrar inteligência. Não sabemos nem mesmo como defini-la muito bem\", disse Tarter. \"Mas, se você sabe que existe esse imóvel potencialmente habitável por aí, como é possível não se perguntar se algum deles é habitado?\"',\n",
       " 'Os astrônomos procuram sinais de tecnologia, qualquer sinal não natural, que pode ter sido criado por vida inteligente. Pode ser um sinal de TV ou rádio que chega até nós, assim como os sinais do nosso planeta são continuamente emitidos no espaço. Os astrônomos podem conseguir distinguir, no traço luminoso de planetas distantes, variações que indicariam a presença de grandes estruturas orbitais, como estações espaciais.',\n",
       " 'No futuro, a ideia seria analisar também a composição química de outros planetas para procurar sinais biológicos de vida —como na Terra, onde tudo, desde a flatulência bovina à fotossíntese, contribui para a mistura de nossa atmosfera. \"Talvez vejamos algum tipo de desequilíbrio químico que não podemos explicar de nenhuma outra maneira\", disse Tarter, acrescentando que \"isso requer grandes telescópios\" —como o projeto Tess, da Nasa.',\n",
       " '',\n",
       " 'Qual o tamanho da Terra perto do resto do Universo? Confira estas comparações',\n",
       " '',\n",
       " 'SIGA TILT NAS REDES SOCIAIS',\n",
       " '',\n",
       " 'Perdeu algum assunto de tec na semana? Sem crise. Tilt explica, complica um pouco e explica de novo. Toda sexta.',\n",
       " 'Feliz ano novo a todos e todas!\\xa0Recentemente, temos visto muitas notícias sobre Betelgeuse, na constelação de...']"
      ]
     },
     "execution_count": 13,
     "metadata": {},
     "output_type": "execute_result"
    }
   ],
   "source": [
    "Coletor(url='https://www.uol.com.br/tilt/noticias/afp/2020/01/07/nasa-descobre-outro-planeta-do-tamanho-da-terra-em-zona-habitavel.htm')"
   ]
  },
  {
   "cell_type": "code",
   "execution_count": null,
   "metadata": {},
   "outputs": [],
   "source": []
  }
 ],
 "metadata": {
  "kernelspec": {
   "display_name": "Python 3",
   "language": "python",
   "name": "python3"
  },
  "language_info": {
   "codemirror_mode": {
    "name": "ipython",
    "version": 3
   },
   "file_extension": ".py",
   "mimetype": "text/x-python",
   "name": "python",
   "nbconvert_exporter": "python",
   "pygments_lexer": "ipython3",
   "version": "3.7.3"
  }
 },
 "nbformat": 4,
 "nbformat_minor": 2
}
